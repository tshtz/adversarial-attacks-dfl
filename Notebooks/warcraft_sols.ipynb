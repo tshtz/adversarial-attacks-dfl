{
 "cells": [
  {
   "cell_type": "markdown",
   "id": "902b4535",
   "metadata": {},
   "source": [
    "# Dataset Comparison Warcraft"
   ]
  },
  {
   "cell_type": "markdown",
   "id": "2f9edba6",
   "metadata": {},
   "source": [
    "This notebooks checks the optimal solutions for the Warcraft dataset.\n",
    "It shows that the solutions from the original repository were not optimal for about 10% of the instances."
   ]
  },
  {
   "cell_type": "code",
   "execution_count": null,
   "id": "96509462",
   "metadata": {},
   "outputs": [],
   "source": [
    "# Load the data\n",
    "import sys\n",
    "from torch.utils.data import DataLoader, Dataset\n",
    "from typing import Literal\n",
    "import os\n",
    "import numpy as np\n",
    "import sys\n",
    "sys.path.insert(0, '/home/schaetz/robust-dfl')\n",
    "from helpers import seed_all\n",
    "from warcraft.comb_modules.dijkstra import get_solver\n",
    "from dotenv import load_dotenv\n",
    "from warcraft.Trainer.utils import shortest_pathsolution_np"
   ]
  },
  {
   "cell_type": "code",
   "execution_count": null,
   "id": "98979137",
   "metadata": {},
   "outputs": [],
   "source": [
    "load_dotenv()"
   ]
  },
  {
   "cell_type": "code",
   "execution_count": null,
   "id": "fff7b5cd",
   "metadata": {},
   "outputs": [],
   "source": [
    "seed = 0 \n",
    "g = seed_all(seed)\n",
    "generator = g\n",
    "batch_size = 128\n",
    "num_workers = 0\n",
    "img_sizes = [12, 18, 24, 30]\n",
    "neighbourhood_fn = \"8-grid\"\n",
    "normalization = \"zscore\"\n",
    "use_test_set = True\n",
    "# TODO: Ajust this to your data directory\n",
    "data_directory = \"\""
   ]
  },
  {
   "cell_type": "code",
   "execution_count": null,
   "id": "8ef6d88c",
   "metadata": {},
   "outputs": [],
   "source": [
    "img_sizes = [24]\n",
    "\n",
    "for img_size in img_sizes:\n",
    "    data_dir = os.path.join(\n",
    "        data_directory,\n",
    "        f\"{str(img_size)}x{str(img_size)}\",\n",
    "    )\n",
    "\n",
    "    # Now define the solver for the shortest path\n",
    "    solver = get_solver(neighbourhood_fn)\n",
    "\n",
    "    train_prefix = \"train\"\n",
    "    val_prefix = \"val\"\n",
    "    test_prefix = \"test\"\n",
    "    data_suffix = \"maps\"\n",
    "    train_inputs = np.load(\n",
    "        os.path.join(data_dir, train_prefix + \"_\" + data_suffix + \".npy\")\n",
    "    ).astype(np.float32)\n",
    "    train_inputs = train_inputs.transpose(0, 3, 1, 2)  # channel first\n",
    "\n",
    "    val_inputs = np.load(\n",
    "        os.path.join(data_dir, val_prefix + \"_\" + data_suffix + \".npy\")\n",
    "    ).astype(np.float32)\n",
    "    val_inputs = val_inputs.transpose(0, 3, 1, 2)  # channel first\n",
    "    if use_test_set:\n",
    "        test_inputs = np.load(\n",
    "            os.path.join(data_dir, test_prefix + \"_\" + data_suffix + \".npy\")\n",
    "        ).astype(np.float32)\n",
    "        test_inputs = test_inputs.transpose(0, 3, 1, 2)  # channel first\n",
    "\n",
    "    assert normalization == \"zscore\", \"This dataset only supports zscore normalization\"\n",
    "    mean, std = (\n",
    "        np.mean(train_inputs, axis=(0, 2, 3), dtype=np.float64, keepdims=True),\n",
    "        np.std(train_inputs, axis=(0, 2, 3), dtype=np.float64, keepdims=True),\n",
    "    )\n",
    "    # Also store the mean and std for denormalization\n",
    "    train_inputs -= mean\n",
    "    train_inputs /= std\n",
    "    val_inputs -= mean\n",
    "    val_inputs /= std\n",
    "    if use_test_set:\n",
    "        test_inputs -= mean\n",
    "        test_inputs /= std\n",
    "\n",
    "    train_true_weights = np.load(\n",
    "        os.path.join(data_dir, train_prefix + \"_vertex_weights.npy\")\n",
    "    ).astype(np.float32)\n",
    "\n",
    "    val_true_weights = np.load(\n",
    "        os.path.join(data_dir, val_prefix + \"_vertex_weights.npy\")\n",
    "    ).astype(np.float32)\n",
    "\n",
    "    val_full_images = np.load(os.path.join(data_dir, val_prefix + \"_maps.npy\"))\n",
    "    if use_test_set:\n",
    "        test_true_weights = np.load(\n",
    "            os.path.join(data_dir, test_prefix + \"_vertex_weights.npy\")\n",
    "        ).astype(np.float32)\n",
    "    \n",
    "    # Now load the optimal solutions \n",
    "    train_labels = np.load(os.path.join(data_dir, train_prefix + \"_shortest_paths.npy\"))\n",
    "    val_labels = np.load(os.path.join(data_dir, val_prefix + \"_shortest_paths.npy\"))\n",
    "    if use_test_set:\n",
    "        test_labels = np.load(os.path.join(data_dir, test_prefix + \"_shortest_paths.npy\"))\n",
    "    \n",
    "    # Now also compute the optimal solutions using the solver\n",
    "    train_labels_solver = shortest_pathsolution_np(solver, train_true_weights)\n",
    "    val_labels_solver = shortest_pathsolution_np(solver, val_true_weights)\n",
    "    if use_test_set:\n",
    "        test_labels_solver = shortest_pathsolution_np(solver, test_true_weights)\n",
    "    # Check which yields the better results\n",
    "    # shape of scores is (batch_size, 1) -> so sum over the last two dims \n",
    "    scores_file_train = (train_true_weights*train_labels).sum(axis=(1, 2))\n",
    "    scores_solver_train = (train_true_weights*train_labels_solver).sum(axis=(1, 2))\n",
    "    scores_file_val = (val_true_weights*val_labels).sum(axis=(1, 2))\n",
    "    scores_solver_val = (val_true_weights*val_labels_solver).sum(axis=(1, 2))\n",
    "    if use_test_set:\n",
    "        scores_file_test = (test_true_weights*test_labels).sum(axis=(1, 2))\n",
    "        scores_solver_test = (test_true_weights*test_labels_solver).sum(axis=(1, 2))\n",
    "    # Now check the percentages \n",
    "    print(f\"Size: {img_size}\")\n",
    "    print(f\"Percentage of where the solver yields a better solutions than the one loaded from the file for train: {np.sum(scores_solver_train<scores_file_train)/len(scores_solver_train)}\")\n",
    "    print(f\"Percentage of where the solver yields a better solutions than the one loaded from the file for val: {np.sum(scores_solver_val<scores_file_val)/len(scores_solver_val)}\")\n",
    "    if use_test_set:\n",
    "        print(f\"Percentage of where the solver yields a better solutions than the one loaded from the file for test: {np.sum(scores_solver_test<scores_file_test)/len(scores_solver_test)}\")"
   ]
  }
 ],
 "metadata": {
  "kernelspec": {
   "display_name": "robust-dfl (3.10.18)",
   "language": "python",
   "name": "python3"
  },
  "language_info": {
   "codemirror_mode": {
    "name": "ipython",
    "version": 3
   },
   "file_extension": ".py",
   "mimetype": "text/x-python",
   "name": "python",
   "nbconvert_exporter": "python",
   "pygments_lexer": "ipython3",
   "version": "3.10.18"
  }
 },
 "nbformat": 4,
 "nbformat_minor": 5
}
